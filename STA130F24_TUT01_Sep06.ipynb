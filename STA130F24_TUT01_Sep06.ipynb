{
 "cells": [
  {
   "cell_type": "markdown",
   "id": "6da914c6",
   "metadata": {},
   "source": [
    "# STA130 TUT 01 (Sep06)<br><br> 🏃🏻‍♀️ 🏃🏻 <u> Hitting the ground running... <u><br><br>\n"
   ]
  },
  {
   "cell_type": "markdown",
   "id": "7f8969b8",
   "metadata": {},
   "source": [
    "\n",
    "## 🚧 🏗️ (Using notebooks and ChatBots) Demo [45 minutes]  \n",
    "      \n",
    "#### 1. *[About 8 of the 45 minutes]* Demonstrate going to the course [Quercus homepage](https://q.utoronto.ca/courses/354091); accessing the [Course GitHub Repo](https://github.com/pointOfive/STA130_ChatGPT); opening new and uploaded notebooks on [UofT Jupyterhub](https://datatools.utoronto.ca) (or students may use [google collab](https://colab.research.google.com/)); and using Jupyter notebooks as a \"`Python` calculator\" and editing [\"Markdown cells\"](http://markdownguide.org)<br>\n",
    "\n",
    "<details class=\"details-example\"><summary style=\"color:blue\"><u>Further Guidance</u></summary>\n",
    "\n",
    "> This is all simple and pretty obvious intended to be that way so students get that they can do this on their own.\n",
    "\n",
    "</details>\n",
    "    \n",
    "#### 2. *[About 30 of the 45 minutes]* Demonstrate using [ChatGPT](https://chat.openai.com/) (or [Copilot](https://copilot.microsoft.com/) if conversation privacy is desired) to\n",
    "\n",
    "1. find an (a) \"amusing, funny, or otherwise interesting dataset\" which (b) has missing values and is (c) available online through a URL link to a csv file;\n",
    "2. load the data into the notebook with `pandas` and get \"missing data counts\" for the dataset;\n",
    "3. prompt the ChatBot to \"Please provide a summary of our interaction for submitting as part of the requirements of an assignment\"; and, to \"Please provide me with the final working verson of the code that we created\"<br>\n",
    "\n",
    "<details class=\"details-example\"><summary style=\"color:blue\"><u>Further Guidance</u></summary>\n",
    "\n",
    "> The intention here is to demonstrate that [at the current GPT4.0-ish level] the ChatBot (with probably about an 80% chance) **cannot fullfil all the requests of the inquiry (of (a) \"funny or amusing\" nature, (b) the presence of missingness, and (c) working url links)** *but will otherwise produce working code*<br><br>\n",
    "> \n",
    "> 1. ChatBots have a notoriously \"short term memory\"; so, be ready for them to \"forget\" specific details of your prompting requests \n",
    "> 2. ChatBots often cannot pivot away substantially from initial answers; so, be ready for your efforts at follow up and correction with the ChatBot to prove frustratingly futile (which, may in this case actually have a lot to do with the following fact, that...)\n",
    "> 3. ChatBots don't seem to be very aware of the contents of datasets that are avalable online (or even working url links where datasets are); so, ChatBot are not currently a substitue for exploring dataset repository such as [TidyTuesday](https://github.com/rfordatascience/tidytuesday) (or other data repositiory resources) and reviewing data yourself (although, ChatBot interactions can nonetheless be help with brainstorm dataset ideas and provide a way to \"search for content\", perhaps especially when referencing a specific website in the conversation)<br><br>\n",
    "> \n",
    "> Examples of this task going pretty well are available [here](../CHATLOG/SLS/COP/00006_copilot_funnyamusingNAdataset.md), [here](../CHATLOG/SLS/COP/00007_copilot_funnyamusingNAdatasetV4.md), and [here](../CHATLOG/SLS/GPT/00001_gpt3p5_villagersdata.md); while, examples of this going poorly are available [here](../CHATLOG/SLS/COP/00002_copilot_funnyamusingNAdataset.md) and [here](../CHATLOG/SLS/GPT/00002_gpt3p5_funnyasusingNAdataset.md). Successes and failures are found within the Microsoft Copilot and ChatGPT ChatBots both, suggesting the quality of the results likely has to do more with \"randomness\" and perhaps the nature of the prompting and engagement as opposed to the actual ChatBot version being used...\n",
    "    \n",
    "</details>\n",
    "\n",
    "#### 3. *[About 7 of the 45 minutes]* Demonstrate saving your python jupyter notebook in your own account and \"repo\" on [github.com](github.com), and sharing (a) notebook links, (b), ChatBot transcript log links, (c) ChatBot summaries through a piazza post and a Quercus announcement (so students can use this later for their homework assignment if they wish)<br><br>\n"
   ]
  },
  {
   "cell_type": "markdown",
   "id": "379538b1",
   "metadata": {},
   "source": [
    "## 💬 🗣️ Communication [55 minutes]  \n",
    "     \n",
    "#### 1. *[About 15 of the 55 minutes]* Ice breakers  and introductions, in 8 groups of 3 or thereabouts...\n",
    "    \n",
    "1. Each person may bring two emojis to a desert island... reveal your emojis at the same time... for emojis selected more than once the group should select one additional emoji\n",
    "2. Where are you from, what do you think your major might be, and what's an \"interesting\" fact that you're willing to share about yourself?\n",
    "        \n",
    "#### 2. *[About 10 of the 55 minutes]* These are where all the bullet holes were in the planes that returned home so far after some missions in World War II\n",
    "    \n",
    "1. Where would you like to add armour to planes for future missions?\n",
    "2. Hint: there is a hypothetical dataset of the bullet holes on the planes that didn't return which is what we'd ideally compare against the dataset we observe...\n",
    "        \n",
    "![Classic image of survivorship bias of WW2 planes](https://upload.wikimedia.org/wikipedia/commons/thumb/b/b2/Survivorship-bias.svg/640px-Survivorship-bias.svg.png)\n",
    "           \n",
    "#### 3. *[About 10 of the 55 minutes]* Monte Hall problem: there is a gameshow with three doors, one of which has a prize, and you select one of the doors and the gameshow host reveals one of the other two unchosen doors which does not have the prize... would you like to change your guess to the other unchosen door?\n",
    "\n",
    "![](https://mathematicalmysteries.org/wp-content/uploads/2021/12/04615-0sxvwbnzvvnhuklug.png)<br>\n",
    "       \n",
    "#### 4. *[About 20 of the 60 minutes]* Discuss the experience of the groups for the WW2 planes and Monte Hall problems\n",
    "\n",
    "1. For each of these problems, have students vote on whether their groups (a) agreed on answers from the beginning, (b) agreed only after some discussion and convincing, or (c) retained somewhat divided in their opinions of the best way to proceed<br><br>\n",
    "    \n",
    "2. Briefely identify the correct answer from the answers the groups arrived at<br><br>\n",
    "    \n",
    "3. **[If time permits... otherwise this is something students could consider after TUT]** Prompt a [ChatGPT](https://chat.openai.com/) [or [Copilot](https://copilot.microsoft.com/)] ChatBot to introduce and explain \"survivorship bias\" using spotify songs as an example and see if students are able to generalize this idea for the WW2 planes problem and if they find it to be a convincing argument to understand the problem<br>\n",
    "\n",
    "<details class=\"details-example\"><summary style=\"color:blue\"><u>Further Guidance</u></summary>\n",
    "    \n",
    "> This could be done like [this](../CHATLOG/SLS/COP/00009_copilot_survivorshipbias_spotify.md) or [this](../CHATLOG/SLS/GPT/00003_gpt3p5_spotify_Survivorship_Bias.md), or you could instead try to approach things more generally like [this](../CHATLOG/SLS/COP/00008_copilot_survivorshipbiasgeneral.md) or [this](../CHATLOG/SLS/GPT/00004_gpt3p5_general_Survivorship_Bias.md)\n",
    "> \n",
    "> Two ends of the ChatBot prompting spectrum are\n",
    "> \n",
    "> 1. creating an extensive prompt exhuastively specifying the desired response results; or, \n",
    "> 2. iteratively clarifying the desired response results through interactive ChatBot dialogue<br><br>\n",
    "> \n",
    "> This is to some degree a matter of preference regarding the nature of ChatBot conversation sessions, but there it may also be a lever to influence the nature of the responses provided by the ChatBot \n",
    "</details>\n",
    "    \n",
    "4. **[If time permits... otherwise this is something students could consider after TUT]** Prompt a [ChatGPT](https://chat.openai.com/) [or [Copilot](https://copilot.microsoft.com/)] ChatBot to introduce and explain the Monte Hall problem and see if the students find it understandable and convincing<br>\n",
    "\n",
    "<details class=\"details-example\"><summary style=\"color:blue\"><u>Further Guidance</u></summary>\n",
    "    \n",
    "> ChatBots fail to correctly analyze the Monte Hall problem when they're asked for a formal probabilistic argument...\n",
    ">\n",
    "> - [ChatGPT fails by wrongly calculating a probability of 1/2...](../CHATLOG/SLS/GPT/00005_gpt3p5_MonteHallWrong.md)\n",
    "> - [Copilot fares similarly poorly without substantial guidance...](../CHATLOG/SLS/COP/00010_copilot_montehallwrong.md)<br><br>\n",
    "> \n",
    "> *demonstrating (a) that there are clear limits to how deeply ChatBots actually \"reason\", and (b) that they are instead better understood as simply being information regurgitation machines, and (c) that this means  they can suffer from the \"garbage in, garbage out\" problem if the quality of the information their responses are based on are is poor and inaccurate (as is notoriously the case in the Monte Hall problem, for which many incorrect mathematical analyses have been \"published\" into the collection of human generated textual data on which ChatBots are based)*\n",
    "    \n",
    "</details>"
   ]
  },
  {
   "cell_type": "code",
   "execution_count": null,
   "id": "f0bb9622",
   "metadata": {},
   "outputs": [],
   "source": []
  }
 ],
 "metadata": {
  "kernelspec": {
   "display_name": "Python 3 (ipykernel)",
   "language": "python",
   "name": "python3"
  },
  "language_info": {
   "codemirror_mode": {
    "name": "ipython",
    "version": 3
   },
   "file_extension": ".py",
   "mimetype": "text/x-python",
   "name": "python",
   "nbconvert_exporter": "python",
   "pygments_lexer": "ipython3",
   "version": "3.12.4"
  }
 },
 "nbformat": 4,
 "nbformat_minor": 5
}
